{
 "cells": [
  {
   "cell_type": "markdown",
   "id": "5ed696b7",
   "metadata": {},
   "source": [
    "# NSI + NMSI Extended Notebook\n",
    "This notebook demonstrates Navier–Stokes baseline vs. NMSI-extended models."
   ]
  },
  {
   "cell_type": "code",
   "execution_count": null,
   "id": "3ac8b21d",
   "metadata": {},
   "outputs": [],
   "source": [
    "\n",
    "import numpy as np\n",
    "import matplotlib.pyplot as plt\n",
    "\n",
    "# Example: Energy evolution baseline vs NMSI\n",
    "t = np.linspace(0, 10, 500)\n",
    "energy_ns = np.exp(0.3 * t)  # Divergent classical NS\n",
    "energy_nmsi = np.sin(t) * np.exp(-0.05 * t) + 1  # Stabilized oscillatory NSI\n",
    "\n",
    "plt.plot(t, energy_ns, label='Classical NS (diverges)')\n",
    "plt.plot(t, energy_nmsi, label='NS + NMSI (bounded)')\n",
    "plt.xlabel('Time')\n",
    "plt.ylabel('Energy')\n",
    "plt.legend()\n",
    "plt.title('Energy Evolution: Classical NS vs NS+NMSI')\n",
    "plt.show()\n"
   ]
  }
 ],
 "metadata": {},
 "nbformat": 4,
 "nbformat_minor": 5
}
