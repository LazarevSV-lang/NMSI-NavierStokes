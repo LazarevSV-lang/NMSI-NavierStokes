{
 "cells": [
  {
   "cell_type": "markdown",
   "id": "7de47e83",
   "metadata": {},
   "source": [
    "# NMSI–π*–HDQG Simulation Diagnostics\n",
    "This notebook provides ready-to-use plots and Lyapunov analysis for comparing Classical Navier–Stokes and Augmented NMSI runs.\n",
    "Load the .npz or .csv outputs from your simulations into this workflow."
   ]
  },
  {
   "cell_type": "code",
   "execution_count": null,
   "id": "5a646b4e",
   "metadata": {},
   "outputs": [],
   "source": [
    "import numpy as np\n",
    "import matplotlib.pyplot as plt\n",
    "\n",
    "plt.style.use('seaborn-v0_8')"
   ]
  },
  {
   "cell_type": "markdown",
   "id": "073b5d96",
   "metadata": {},
   "source": [
    "## Load Data"
   ]
  },
  {
   "cell_type": "code",
   "execution_count": null,
   "id": "94d5a006",
   "metadata": {},
   "outputs": [],
   "source": [
    "# Example: replace with your simulation output paths\n",
    "data_classical = np.load('out_classical/final_timeseries.npz')\n",
    "data_augmented = np.load('out_augmented/final_timeseries.npz')\n",
    "\n",
    "t_c = data_classical['t']\n",
    "E_c = data_classical['E']\n",
    "Omega_c = data_classical['Omega']\n",
    "\n",
    "t_a = data_augmented['t']\n",
    "E_a = data_augmented['E']\n",
    "Omega_a = data_augmented['Omega']"
   ]
  },
  {
   "cell_type": "markdown",
   "id": "bed6547e",
   "metadata": {},
   "source": [
    "## Energy and Enstrophy"
   ]
  },
  {
   "cell_type": "code",
   "execution_count": null,
   "id": "5d30fd20",
   "metadata": {},
   "outputs": [],
   "source": [
    "plt.figure(figsize=(12,5))\n",
    "plt.subplot(1,2,1)\n",
    "plt.plot(t_c,E_c,label='Classical')\n",
    "plt.plot(t_a,E_a,label='Augmented')\n",
    "plt.xlabel('t'); plt.ylabel('Energy E(t)'); plt.legend()\n",
    "\n",
    "plt.subplot(1,2,2)\n",
    "plt.plot(t_c,Omega_c,label='Classical')\n",
    "plt.plot(t_a,Omega_a,label='Augmented')\n",
    "plt.xlabel('t'); plt.ylabel('Enstrophy Ω(t)'); plt.legend()\n",
    "\n",
    "plt.tight_layout(); plt.show()"
   ]
  },
  {
   "cell_type": "markdown",
   "id": "e51280b0",
   "metadata": {},
   "source": [
    "## Max Vorticity"
   ]
  },
  {
   "cell_type": "code",
   "execution_count": null,
   "id": "543cf07f",
   "metadata": {},
   "outputs": [],
   "source": [
    "if 'wmax' in data_classical and 'wmax' in data_augmented:\n",
    "    plt.plot(t_c,data_classical['wmax'],label='Classical')\n",
    "    plt.plot(t_a,data_augmented['wmax'],label='Augmented')\n",
    "    plt.xlabel('t'); plt.ylabel('‖ω‖∞'); plt.legend(); plt.show()\n",
    "else:\n",
    "    print('No wmax field found in data.')"
   ]
  },
  {
   "cell_type": "markdown",
   "id": "fc4e357a",
   "metadata": {},
   "source": [
    "## Energy Spectrum E(k)"
   ]
  },
  {
   "cell_type": "code",
   "execution_count": null,
   "id": "b95b23cc",
   "metadata": {},
   "outputs": [],
   "source": [
    "# Example: load spectrum from file (replace with your own)\n",
    "# spectrum = np.load('out_augmented/spectrum_Ek.npz')\n",
    "# k = spectrum['k']; Ek = spectrum['Ek']\n",
    "# plt.loglog(k,Ek,label='Augmented')\n",
    "# plt.loglog(k,k**(-5/3)*Ek[5]/k[5]**(-5/3),'--',label='-5/3 slope')\n",
    "# plt.xlabel('k'); plt.ylabel('E(k)'); plt.legend(); plt.show()"
   ]
  },
  {
   "cell_type": "markdown",
   "id": "ad60b110",
   "metadata": {},
   "source": [
    "## Lyapunov Estimation"
   ]
  },
  {
   "cell_type": "code",
   "execution_count": null,
   "id": "60bf58e7",
   "metadata": {},
   "outputs": [],
   "source": [
    "# Load twin trajectory runs (Classical or Augmented)\n",
    "A = np.load('run_base/final_timeseries.npz')\n",
    "B = np.load('run_pert/final_timeseries.npz')\n",
    "\n",
    "t = np.minimum(A['t'], B['t'])\n",
    "d = np.abs(A['E'][:len(t)] - B['E'][:len(t)]) + 1e-16\n",
    "\n",
    "i0, i1 = int(0.2*len(t)), int(0.8*len(t))\n",
    "coef = np.polyfit(t[i0:i1], np.log(d[i0:i1]), 1)\n",
    "lam = coef[0]\n",
    "\n",
    "print(f'Estimated λ_max ≈ {lam:.4e}')\n",
    "\n",
    "plt.plot(t,np.log(d))\n",
    "plt.axvspan(t[i0],t[i1],alpha=0.2)\n",
    "plt.xlabel('t'); plt.ylabel('log d(t)')\n",
    "plt.title(f'Lyapunov slope ~ {lam:.3e}')\n",
    "plt.show()"
   ]
  },
  {
   "cell_type": "markdown",
   "id": "a9e2287e",
   "metadata": {},
   "source": [
    "### Next Steps\n",
    "- Adjust ν, grid size, π* and γ parameters.\n",
    "- Save spectra at multiple times for inertial range analysis.\n",
    "- Share plots and λ_max results for community review."
   ]
  }
 ],
 "metadata": {},
 "nbformat": 4,
 "nbformat_minor": 5
}