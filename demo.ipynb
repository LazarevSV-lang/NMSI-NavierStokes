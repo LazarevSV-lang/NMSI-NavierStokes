{
 "cells": [
  {"cell_type": "markdown", "metadata": {}, "source": ["# Demo Cairo_NMSI TwoFlow"]},
  {"cell_type": "code", "execution_count": null, "metadata": {}, "outputs": [], "source": ["from src.mhd_twoflow_nmsi import twoflow_step\n",
   "u1,u2=1.0,0.5\n",
   "for i in range(5):\n",
   "    u1,u2=twoflow_step(u1,u2,0.01,(0.1,0.05,0.01))\n",
   "print(u1,u2)"]}
 ],
 "metadata": {"kernelspec": {"name": "python3","display_name": "Python 3"}},
 "nbformat": 4, "nbformat_minor": 5}
