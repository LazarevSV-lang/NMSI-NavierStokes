{
 "cells": [
  {
   "cell_type": "markdown",
   "id": "d79c4e92",
   "metadata": {},
   "source": [
    "# NMSI Diagnostics Notebook (with Demo Fallback)\n",
    "This notebook loads simulation outputs for Classical vs Augmented NSE.\n",
    "If no external files are found, it falls back to a demo dataset (`demo_timeseries.npz`)."
   ]
  },
  {
   "cell_type": "code",
   "execution_count": null,
   "id": "e7941050",
   "metadata": {},
   "outputs": [],
   "source": [
    "import numpy as np\n",
    "import matplotlib.pyplot as plt\n",
    "import os\n",
    "\n",
    "plt.style.use('seaborn-v0_8')"
   ]
  },
  {
   "cell_type": "markdown",
   "id": "d24ea9c0",
   "metadata": {},
   "source": [
    "## Load Data (with fallback)"
   ]
  },
  {
   "cell_type": "code",
   "execution_count": null,
   "id": "ecf20085",
   "metadata": {},
   "outputs": [],
   "source": [
    "demo_path = 'demo_timeseries.npz'\n",
    "if os.path.exists('out_classical/final_timeseries.npz') and os.path.exists('out_augmented/final_timeseries.npz'):\n",
    "    data_classical = np.load('out_classical/final_timeseries.npz')\n",
    "    data_augmented = np.load('out_augmented/final_timeseries.npz')\n",
    "    t_c, E_c, Omega_c = data_classical['t'], data_classical['E'], data_classical['Omega']\n",
    "    t_a, E_a, Omega_a = data_augmented['t'], data_augmented['E'], data_augmented['Omega']\n",
    "    print('Loaded simulation outputs.')\n",
    "elif os.path.exists(demo_path):\n",
    "    demo = np.load(demo_path)\n",
    "    t_c, E_c, Omega_c, wmax_c = demo['t'], demo['E_classical'], demo['Omega_classical'], demo['wmax_classical']\n",
    "    t_a, E_a, Omega_a, wmax_a = demo['t'], demo['E_augmented'], demo['Omega_augmented'], demo['wmax_augmented']\n",
    "    print('Loaded demo dataset.')\n",
    "else:\n",
    "    raise FileNotFoundError('No simulation outputs or demo dataset found.')"
   ]
  },
  {
   "cell_type": "markdown",
   "id": "9686d5b5",
   "metadata": {},
   "source": [
    "## Energy and Enstrophy"
   ]
  },
  {
   "cell_type": "code",
   "execution_count": null,
   "id": "d8691ad7",
   "metadata": {},
   "outputs": [],
   "source": [
    "plt.figure(figsize=(12,5))\n",
    "plt.subplot(1,2,1)\n",
    "plt.plot(t_c,E_c,label='Classical')\n",
    "plt.plot(t_a,E_a,label='Augmented')\n",
    "plt.xlabel('t'); plt.ylabel('Energy E(t)'); plt.legend()\n",
    "\n",
    "plt.subplot(1,2,2)\n",
    "plt.plot(t_c,Omega_c,label='Classical')\n",
    "plt.plot(t_a,Omega_a,label='Augmented')\n",
    "plt.xlabel('t'); plt.ylabel('Enstrophy Ω(t)'); plt.legend()\n",
    "\n",
    "plt.tight_layout(); plt.show()"
   ]
  },
  {
   "cell_type": "markdown",
   "id": "9ceb9a98",
   "metadata": {},
   "source": [
    "## Max Vorticity"
   ]
  },
  {
   "cell_type": "code",
   "execution_count": null,
   "id": "9b8bf3e3",
   "metadata": {},
   "outputs": [],
   "source": [
    "if 'wmax_c' in locals() and 'wmax_a' in locals():\n",
    "    plt.plot(t_c, wmax_c, label='Classical')\n",
    "    plt.plot(t_a, wmax_a, label='Augmented')\n",
    "    plt.xlabel('t'); plt.ylabel('‖ω‖∞'); plt.legend(); plt.show()\n",
    "else:\n",
    "    print('No max vorticity data available.')"
   ]
  }
 ],
 "metadata": {},
 "nbformat": 4,
 "nbformat_minor": 5
}