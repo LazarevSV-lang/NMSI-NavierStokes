{
 "cells": [
  {
   "cell_type": "markdown",
   "id": "fc836672",
   "metadata": {},
   "source": [
    "\n",
    "# Rubin/LSST – NMSI Testability Notebook (DP1-ready)\n",
    "\n",
    "This notebook provides **templates to run inside the Rubin Science Platform (RSP)** for testing falsifiable predictions of the NMSI framework using public Rubin data (DP1/operations) and Gaia cross-matches.\n",
    "\n",
    "Modules included:\n",
    "- **Test A** – Galactic vertical-wave harmonics & age-linked phase (Gaia×Rubin)\n",
    "- **Test B** – Phase synchronization in star-forming regions (Kuramoto order)\n",
    "- **Test C** – ISO non-gravitational acceleration phase signatures (Rubin Solar System Processing)\n"
   ]
  },
  {
   "cell_type": "markdown",
   "id": "989e9ab8",
   "metadata": {},
   "source": [
    "## 0) Setup & Imports"
   ]
  },
  {
   "cell_type": "code",
   "execution_count": null,
   "id": "0fe4588c",
   "metadata": {},
   "outputs": [],
   "source": [
    "\n",
    "import numpy as np, pandas as pd, matplotlib.pyplot as plt\n",
    "from astropy.table import Table\n",
    "from astropy.time import Time\n",
    "from astropy import units as u\n",
    "from astropy.coordinates import SkyCoord, Galactocentric\n",
    "import pyvo\n",
    "from astropy.timeseries import LombScargle\n",
    "from scipy.signal import welch\n",
    "print('Libraries loaded.')"
   ]
  },
  {
   "cell_type": "markdown",
   "id": "fed1ff1d",
   "metadata": {},
   "source": [
    "## 1) Endpoints & basic config"
   ]
  },
  {
   "cell_type": "code",
   "execution_count": null,
   "id": "b287b2d2",
   "metadata": {},
   "outputs": [],
   "source": [
    "\n",
    "RUBIN_TAP = \"https://data.lsst.cloud/api/tap\"\n",
    "GAIA_TAP  = \"https://gea.esac.esa.int/tap-server/tap\"\n",
    "tap_rubin = pyvo.dal.TAPService(RUBIN_TAP)\n",
    "tap_gaia  = pyvo.dal.TAPService(GAIA_TAP)\n",
    "RA0, DEC0, RADIUS_DEG = 90.0, 0.0, 5.0\n",
    "print('Endpoints set.')"
   ]
  },
  {
   "cell_type": "markdown",
   "id": "e6c2fbaa",
   "metadata": {},
   "source": [
    "\n",
    "## Test A — Vertical-wave **harmonics** & **age-linked phase** (Gaia × Rubin)\n",
    "\n",
    "**Hypothesis (NMSI):** the MW disc vertical pattern is a **multi-harmonic oscillation**; young stars inherit the gas-phase (age-linked phase imprint).\n",
    "**Falsifies NMSI if:** only a single tidal mode with no harmonic structure and no age-stratified phase lag.\n"
   ]
  },
  {
   "cell_type": "code",
   "execution_count": null,
   "id": "dd9b7dd1",
   "metadata": {},
   "outputs": [],
   "source": [
    "\n",
    "adql_gaia = f\"\"\"\n",
    "SELECT TOP 50000\n",
    "    g.source_id, g.ra, g.dec, g.pmra, g.pmdec, g.parallax, g.phot_g_mean_mag,\n",
    "    vc.best_class_name AS var_type\n",
    "FROM gaiadr3.gaia_source AS g\n",
    "JOIN gaiadr3.vari_classifier_result AS vc\n",
    "    ON g.source_id = vc.source_id\n",
    "WHERE 1=INTERSECTS(\n",
    "    CIRCLE('ICRS', {RA0}, {DEC0}, {RADIUS_DEG}),\n",
    "    POINT('ICRS', g.ra, g.dec))\n",
    "AND vc.best_class_name IN ('CEP', 'ACEP', 'T2CEP')\n",
    "\"\"\"\n",
    "gaia_job = tap_gaia.submit_job(adql_gaia); gaia_job.run()\n",
    "gaia_df = gaia_job.fetch_result().to_table().to_pandas()\n",
    "print(gaia_df.head(), len(gaia_df))"
   ]
  },
  {
   "cell_type": "code",
   "execution_count": null,
   "id": "4c290005",
   "metadata": {},
   "outputs": [],
   "source": [
    "\n",
    "adql_rubin = f\"\"\"\n",
    "SELECT\n",
    "    o.objectId, o.ra, o.dec, o.psfMag_g, o.psfMag_r\n",
    "FROM dp01_dc2_catalogs.object AS o\n",
    "WHERE 1=INTERSECTS(\n",
    "    CIRCLE('ICRS', {RA0}, {DEC0}, {RADIUS_DEG}),\n",
    "    POINT('ICRS', o.ra, o.dec))\n",
    "\"\"\"\n",
    "rubin_job = tap_rubin.submit_job(adql_rubin); rubin_job.run()\n",
    "rubin_df = rubin_job.fetch_result().to_table().to_pandas()\n",
    "\n",
    "from astropy.coordinates import match_coordinates_sky\n",
    "gcoords = SkyCoord(gaia_df['ra'].values*u.deg, gaia_df['dec'].values*u.deg)\n",
    "rcoords = SkyCoord(rubin_df['ra'].values*u.deg, rubin_df['dec'].values*u.deg)\n",
    "idx, d2d, _ = gcoords.match_to_catalog_sky(rcoords)\n",
    "sel = d2d < 0.5*u.arcsec\n",
    "cross = pd.concat([gaia_df[sel].reset_index(drop=True),\n",
    "                   rubin_df.iloc[idx[sel]].add_prefix('rb_').reset_index(drop=True)],\n",
    "                  axis=1)\n",
    "print(cross.head(), len(cross))"
   ]
  },
  {
   "cell_type": "code",
   "execution_count": null,
   "id": "eeedddc6",
   "metadata": {},
   "outputs": [],
   "source": [
    "\n",
    "# Z, W proxies and harmonic content (demo)\n",
    "from astropy.coordinates import Galactocentric\n",
    "dist = (1.0 / (cross['parallax'].values/1000.0)) * u.pc\n",
    "coords = SkyCoord(ra=cross['ra'].values*u.deg, dec=cross['dec'].values*u.deg, distance=dist)\n",
    "gc = coords.transform_to(Galactocentric())\n",
    "Z = gc.z.to(u.kpc).value\n",
    "pmra, pmdec = cross['pmra'].values * u.mas/u.yr, cross['pmdec'].values * u.mas/u.yr\n",
    "vtan = 4.74 * (pmra.value**2 + pmdec.value**2)**0.5 * (dist.to(u.kpc).value)\n",
    "W = vtan * np.sin(np.deg2rad(30.0))  # proxy\n",
    "\n",
    "R = np.clip(dist.to(u.kpc).value, 0, 25)\n",
    "bins = np.linspace(5, 20, 16); curves = []\n",
    "for i in range(len(bins)-1):\n",
    "    m = (R>=bins[i]) & (R<bins[i+1])\n",
    "    if m.sum()<64: continue\n",
    "    z_sorted = np.sort(Z[m]); w_sorted = W[m][np.argsort(Z[m])]\n",
    "    f, Pxx = welch(w_sorted - np.nanmean(w_sorted), nperseg=min(256, m.sum()))\n",
    "    curves.append((f,Pxx))\n",
    "\n",
    "plt.figure(figsize=(6,4))\n",
    "for f,P in curves: plt.loglog(f,P,alpha=0.3)\n",
    "plt.xlabel('Spatial frequency'); plt.ylabel('Power'); plt.title('Vertical-wave harmonics'); plt.show()"
   ]
  },
  {
   "cell_type": "markdown",
   "id": "378253a2",
   "metadata": {},
   "source": [
    "\n",
    "## Test B — Phase synchronization in star-forming regions (Kuramoto order)\n",
    "\n",
    "**Hypothesis (NMSI):** young-variable populations in SFRs show **phase-locking** (elevated Kuramoto order) vs. matched field stars.\n",
    "**Falsifies NMSI if:** no excess coherence after controlling for cadence/systematics.\n"
   ]
  },
  {
   "cell_type": "code",
   "execution_count": null,
   "id": "2c956272",
   "metadata": {},
   "outputs": [],
   "source": [
    "\n",
    "adql_dia = f\"\"\"\n",
    "SELECT TOP 50000\n",
    "    d.objectId, d.band, d.midPointMjdTai AS mjd, d.psfFlux, d.psfFluxErr,\n",
    "    o.ra, o.dec\n",
    "FROM dp01_dc2_catalogs.forced_photometry AS d\n",
    "JOIN dp01_dc2_catalogs.object AS o ON d.objectId = o.objectId\n",
    "WHERE 1=INTERSECTS(\n",
    "    CIRCLE('ICRS', {RA0}, {DEC0}, {RADIUS_DEG}),\n",
    "    POINT('ICRS', o.ra, o.dec))\n",
    "\"\"\"\n",
    "dia_job = tap_rubin.submit_job(adql_dia); dia_job.run()\n",
    "dia_df = dia_job.fetch_result().to_table().to_pandas()\n",
    "print(dia_df.head())"
   ]
  },
  {
   "cell_type": "code",
   "execution_count": null,
   "id": "fa44cb0d",
   "metadata": {},
   "outputs": [],
   "source": [
    "\n",
    "from astropy.timeseries import LombScargle\n",
    "def estimate_phase(mjd, flux):\n",
    "    t = np.array(mjd) - np.min(mjd)\n",
    "    freq, power = LombScargle(t, flux).autopower(minimum_frequency=1/200.0, maximum_frequency=1/0.5)\n",
    "    f0 = freq[np.argmax(power)]\n",
    "    phase = (t * f0 * 2*np.pi) % (2*np.pi)\n",
    "    return phase, 1/f0\n",
    "\n",
    "def kuramoto_R(phases):\n",
    "    return np.abs(np.mean(np.exp(1j*phases)))\n",
    "\n",
    "R_vals = []\n",
    "for oid, g in dia_df.groupby('objectId'):\n",
    "    if len(g)<20: continue\n",
    "    phase, period = estimate_phase(g['mjd'], g['psfFlux'])\n",
    "    R_vals.append(kuramoto_R(phase))\n",
    "\n",
    "R_vals = np.array(R_vals)\n",
    "print('Kuramoto R median / 90th pct:', np.nanmedian(R_vals), np.nanpercentile(R_vals,90))\n",
    "plt.hist(R_vals, bins=40); plt.xlabel('R'); plt.ylabel('N'); plt.title('Phase coherence in SFR field'); plt.show()"
   ]
  },
  {
   "cell_type": "markdown",
   "id": "b69ffb55",
   "metadata": {},
   "source": [
    "\n",
    "## Test C — ISO non-gravitational acceleration phase signatures\n",
    "\n",
    "**Hypothesis (NMSI):** some interstellar objects (ISOs) show **quasi-periodic residuals** in orbit fits beyond standard outgassing.\n",
    "**Falsifies NMSI if:** residuals are fully explained by standard non-grav models with no phase structure across the sample.\n"
   ]
  },
  {
   "cell_type": "code",
   "execution_count": null,
   "id": "1b828d7e",
   "metadata": {},
   "outputs": [],
   "source": [
    "\n",
    "adql_iso = \"\"\"\n",
    "SELECT TOP 20000\n",
    "    sso.ssObjectId, sso.ra, sso.dec, sso.refEpoch, sso.e, sso.a, sso.i, sso.omega, sso.Omega, sso.M\n",
    "FROM dp01_dc2_catalogs.ss_object AS sso\n",
    "WHERE sso.e > 1.05\n",
    "\"\"\"\n",
    "iso_job = tap_rubin.submit_job(adql_iso); iso_job.run()\n",
    "iso_df = iso_job.fetch_result().to_table().to_pandas()\n",
    "print(iso_df.head())"
   ]
  },
  {
   "cell_type": "code",
   "execution_count": null,
   "id": "d5496c0d",
   "metadata": {},
   "outputs": [],
   "source": [
    "\n",
    "# Toy residual periodicity metric demo\n",
    "rng = np.random.default_rng(42)\n",
    "t = np.linspace(0, 200, 300)\n",
    "resid = 0.002*np.sin(2*np.pi*t/30.0 + 1.2) + 0.001*rng.normal(size=t.size)\n",
    "\n",
    "freq, power = LombScargle(t - t.min(), resid).autopower()\n",
    "peak = power.max()\n",
    "print('Example phase-structure metric (higher=more periodic):', float(peak))\n",
    "plt.plot(t, resid, '.-'); plt.xlabel('time'); plt.ylabel('residual'); plt.title('ISO residuals (toy)'); plt.show()\n",
    "\n",
    "print(\"Apply to real ISO ephemeris residuals post-fit. Significant periodic power across a subset supports NMSI; absence weakens it.\")"
   ]
  }
 ],
 "metadata": {},
 "nbformat": 4,
 "nbformat_minor": 5
}
